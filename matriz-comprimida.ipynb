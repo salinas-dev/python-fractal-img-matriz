{
 "cells": [
  {
   "cell_type": "code",
   "execution_count": 17,
   "id": "71c67923",
   "metadata": {},
   "outputs": [
    {
     "name": "stdout",
     "output_type": "stream",
     "text": [
      "Matriz de la imagen:\n",
      "[[[40 40 40]\n",
      "  [40 40 40]\n",
      "  [40 40 40]\n",
      "  ...\n",
      "  [40 40 40]\n",
      "  [40 40 40]\n",
      "  [40 40 40]]\n",
      "\n",
      " [[40 40 40]\n",
      "  [40 40 40]\n",
      "  [40 40 40]\n",
      "  ...\n",
      "  [40 40 40]\n",
      "  [40 40 40]\n",
      "  [40 40 40]]\n",
      "\n",
      " [[40 40 40]\n",
      "  [40 40 40]\n",
      "  [40 40 40]\n",
      "  ...\n",
      "  [40 40 40]\n",
      "  [40 40 40]\n",
      "  [40 40 40]]\n",
      "\n",
      " ...\n",
      "\n",
      " [[40 40 40]\n",
      "  [40 40 40]\n",
      "  [40 40 40]\n",
      "  ...\n",
      "  [40 40 40]\n",
      "  [40 40 40]\n",
      "  [40 40 40]]\n",
      "\n",
      " [[40 40 40]\n",
      "  [40 40 40]\n",
      "  [40 40 40]\n",
      "  ...\n",
      "  [40 40 40]\n",
      "  [40 40 40]\n",
      "  [40 40 40]]\n",
      "\n",
      " [[40 40 40]\n",
      "  [40 40 40]\n",
      "  [40 40 40]\n",
      "  ...\n",
      "  [40 40 40]\n",
      "  [40 40 40]\n",
      "  [40 40 40]]]\n"
     ]
    },
    {
     "ename": "TypeError",
     "evalue": "compress() missing required argument 'condition' (pos 1)",
     "output_type": "error",
     "traceback": [
      "\u001b[1;31m---------------------------------------------------------------------------\u001b[0m",
      "\u001b[1;31mTypeError\u001b[0m                                 Traceback (most recent call last)",
      "\u001b[1;32mc:\\Users\\nora._.salinas\\Downloads\\NORA\\7° Semestre\\Graficacion\\Fractal Copo de Nieve\\python-fractal\\Img-Matriz\\imagenes copy.ipynb Cell 1\u001b[0m line \u001b[0;36m1\n\u001b[0;32m     <a href='vscode-notebook-cell:/c%3A/Users/nora._.salinas/Downloads/NORA/7%C2%B0%20Semestre/Graficacion/Fractal%20Copo%20de%20Nieve/python-fractal/Img-Matriz/imagenes%20copy.ipynb#W0sZmlsZQ%3D%3D?line=14'>15</a>\u001b[0m \u001b[39mprint\u001b[39m(matriz)\n\u001b[0;32m     <a href='vscode-notebook-cell:/c%3A/Users/nora._.salinas/Downloads/NORA/7%C2%B0%20Semestre/Graficacion/Fractal%20Copo%20de%20Nieve/python-fractal/Img-Matriz/imagenes%20copy.ipynb#W0sZmlsZQ%3D%3D?line=16'>17</a>\u001b[0m \u001b[39m# Guardar la matriz en un archivo JSON\u001b[39;00m\n\u001b[1;32m---> <a href='vscode-notebook-cell:/c%3A/Users/nora._.salinas/Downloads/NORA/7%C2%B0%20Semestre/Graficacion/Fractal%20Copo%20de%20Nieve/python-fractal/Img-Matriz/imagenes%20copy.ipynb#W0sZmlsZQ%3D%3D?line=17'>18</a>\u001b[0m matriz_json \u001b[39m=\u001b[39m matriz\u001b[39m.\u001b[39;49mcompress()  \u001b[39m# Convertir la matriz NumPy en una lista\u001b[39;00m\n\u001b[0;32m     <a href='vscode-notebook-cell:/c%3A/Users/nora._.salinas/Downloads/NORA/7%C2%B0%20Semestre/Graficacion/Fractal%20Copo%20de%20Nieve/python-fractal/Img-Matriz/imagenes%20copy.ipynb#W0sZmlsZQ%3D%3D?line=18'>19</a>\u001b[0m \u001b[39mwith\u001b[39;00m \u001b[39mopen\u001b[39m(\u001b[39m'\u001b[39m\u001b[39mmatriz_imagen.json\u001b[39m\u001b[39m'\u001b[39m, \u001b[39m'\u001b[39m\u001b[39mw\u001b[39m\u001b[39m'\u001b[39m) \u001b[39mas\u001b[39;00m json_file:\n\u001b[0;32m     <a href='vscode-notebook-cell:/c%3A/Users/nora._.salinas/Downloads/NORA/7%C2%B0%20Semestre/Graficacion/Fractal%20Copo%20de%20Nieve/python-fractal/Img-Matriz/imagenes%20copy.ipynb#W0sZmlsZQ%3D%3D?line=19'>20</a>\u001b[0m     json\u001b[39m.\u001b[39mdump(matriz_json, json_file)\n",
      "\u001b[1;31mTypeError\u001b[0m: compress() missing required argument 'condition' (pos 1)"
     ]
    }
   ],
   "source": [
    "import cv2\n",
    "import numpy as np\n",
    "import json\n",
    "\n",
    "# Cargar una imagen desde el archivo\n",
    "imagen = cv2.imread('./img/alien_rojo.jpg')\n",
    "\n",
    "# Verifica si la imagen se ha cargado correctamente\n",
    "if imagen is not None:\n",
    "    # Reducir la resolución de la imagen (por ejemplo, a 100x100 píxeles)\n",
    "    imagen_reducida = cv2.resize(imagen, (100, 100))  # Ajusta el tamaño según sea necesario\n",
    "\n",
    "    # Convierte la imagen reducida en una matriz NumPy\n",
    "    matriz_reducida = np.array(imagen_reducida)\n",
    "\n",
    "    # Convierte la matriz reducida a una lista de Python\n",
    "    matriz_lista = matriz_reducida.tolist()\n",
    "\n",
    "    # Define el nombre del archivo en el que deseas guardar la matriz en formato JSON\n",
    "    nombre_archivo_json = \"matriz_imagen_reducida.json\"\n",
    "\n",
    "    # Guardar la matriz en formato JSON\n",
    "    with open(nombre_archivo_json, 'w') as archivo_json:\n",
    "        json.dump(matriz_lista, archivo_json)\n",
    "\n",
    "    print(f\"La matriz de la imagen reducida se ha guardado en {nombre_archivo_json}\")\n",
    "else:\n",
    "    print(\"No se pudo cargar la imagen.\")\n"
   ]
  }
 ],
 "metadata": {
  "kernelspec": {
   "display_name": "Python 3 (ipykernel)",
   "language": "python",
   "name": "python3"
  },
  "language_info": {
   "codemirror_mode": {
    "name": "ipython",
    "version": 3
   },
   "file_extension": ".py",
   "mimetype": "text/x-python",
   "name": "python",
   "nbconvert_exporter": "python",
   "pygments_lexer": "ipython3",
   "version": "3.11.5"
  }
 },
 "nbformat": 4,
 "nbformat_minor": 5
}
