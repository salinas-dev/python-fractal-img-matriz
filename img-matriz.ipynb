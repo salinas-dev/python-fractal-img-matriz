{
 "cells": [
  {
   "cell_type": "code",
   "execution_count": 2,
   "id": "71c67923",
   "metadata": {},
   "outputs": [
    {
     "name": "stdout",
     "output_type": "stream",
     "text": [
      "Matriz de la imagen:\n",
      "[[[40 40 40]\n",
      "  [40 40 40]\n",
      "  [40 40 40]\n",
      "  ...\n",
      "  [40 40 40]\n",
      "  [40 40 40]\n",
      "  [40 40 40]]\n",
      "\n",
      " [[40 40 40]\n",
      "  [40 40 40]\n",
      "  [40 40 40]\n",
      "  ...\n",
      "  [40 40 40]\n",
      "  [40 40 40]\n",
      "  [40 40 40]]\n",
      "\n",
      " [[40 40 40]\n",
      "  [40 40 40]\n",
      "  [40 40 40]\n",
      "  ...\n",
      "  [40 40 40]\n",
      "  [40 40 40]\n",
      "  [40 40 40]]\n",
      "\n",
      " ...\n",
      "\n",
      " [[40 40 40]\n",
      "  [40 40 40]\n",
      "  [40 40 40]\n",
      "  ...\n",
      "  [40 40 40]\n",
      "  [40 40 40]\n",
      "  [40 40 40]]\n",
      "\n",
      " [[40 40 40]\n",
      "  [40 40 40]\n",
      "  [40 40 40]\n",
      "  ...\n",
      "  [40 40 40]\n",
      "  [40 40 40]\n",
      "  [40 40 40]]\n",
      "\n",
      " [[40 40 40]\n",
      "  [40 40 40]\n",
      "  [40 40 40]\n",
      "  ...\n",
      "  [40 40 40]\n",
      "  [40 40 40]\n",
      "  [40 40 40]]]\n"
     ]
    }
   ],
   "source": [
    "import cv2\n",
    "import numpy as np\n",
    "\n",
    "# Cargar una imagen desde el archivo\n",
    "imagen = cv2.imread('linux.jpg')\n",
    "\n",
    "# Verifica si la imagen se ha cargado correctamente\n",
    "if imagen is not None:\n",
    "    # Convierte la imagen en una matriz NumPy\n",
    "    matriz = np.array(imagen)\n",
    "    \n",
    "    # Ahora puedes trabajar con la matriz de la imagen\n",
    "    print(\"Matriz de la imagen:\")\n",
    "    print(matriz)\n",
    "else:\n",
    "    print(\"No se pudo cargar la imagen.\")\n"
   ]
  },
  {
   "cell_type": "code",
   "execution_count": 5,
   "id": "4e45d3e5",
   "metadata": {},
   "outputs": [],
   "source": [
    "cv2.imwrite('matriz_imagen.png', matriz)\n",
    "cv2.imshow('Mi Imagen', matriz)\n",
    "cv2.waitKey(0)\n",
    "cv2.destroyAllWindows()"
   ]
  }
 ],
 "metadata": {
  "kernelspec": {
   "display_name": "Python 3 (ipykernel)",
   "language": "python",
   "name": "python3"
  },
  "language_info": {
   "codemirror_mode": {
    "name": "ipython",
    "version": 3
   },
   "file_extension": ".py",
   "mimetype": "text/x-python",
   "name": "python",
   "nbconvert_exporter": "python",
   "pygments_lexer": "ipython3",
   "version": "3.11.5"
  }
 },
 "nbformat": 4,
 "nbformat_minor": 5
}
